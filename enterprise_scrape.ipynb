{
 "cells": [
  {
   "cell_type": "markdown",
   "metadata": {},
   "source": [
    "<table align=\"left\" cellspacing=\"0\" cellpadding=\"0\">\n",
    "    <tr>\n",
    "        <td colspan=\"3\">\n",
    "            <img src=\"python.png\" style=\"width:20%; height:20%\" align=\"left\"/>\n",
    "        </td>\n",
    "    </tr>\n",
    "    <tr>\n",
    "        <td><span style=\"font-family:cambria; font-size:40px\">Enterprise Scrape API</span></td>\n",
    "        <td><span style=\"font-family:cambira; font-size:40px\">&nbsp;|</span></td>\n",
    "        <td><span style=\"font-family:cambira; font-size:24.7px\"><i>Scrape Enterprise Data from Google</i></span></td>\n",
    "    </tr>\n",
    "    <tr>\n",
    "        <td colspan=\"3\"><hr></td>\n",
    "    </tr>\n",
    "</table>"
   ]
  },
  {
   "cell_type": "code",
   "execution_count": 1,
   "metadata": {},
   "outputs": [],
   "source": [
    "from enterprise_scrape import Scrape"
   ]
  },
  {
   "cell_type": "markdown",
   "metadata": {},
   "source": [
    "<hr>\n",
    "<i style=\"font-size:15.9px\">Send a query to Google and extract the source code:</i></tr><td>\n",
    "<hr>"
   ]
  },
  {
   "cell_type": "code",
   "execution_count": 13,
   "metadata": {
    "scrolled": true
   },
   "outputs": [
    {
     "data": {
      "text/plain": [
       "'<!doctype html><html lang=\"en\"><head><meta charset=\"utf-8\"><meta content=\"/images/branding/googleg/1x/googleg_standard_color_128dp.png\" itemprop=\"image\"><title>ibm company - google search</title><script nonce=\"gmxprfzbxsrceyqzrzemfw==\">(function(){\\ndocument.documentelement.addeventlistener(\"submit\",function(b){var a;if(a=b.target){var c=a.getattribute(\"data-submitfalse\");a=\"1\"==c||\"q\"==c&&!a.elements.q.value?!0:!1}else a=!1;a&&(b.preventdefault(),b.stoppropagation())},!0);document.documentelement.addeventlistener(\"click\",function(b){var a;a:{for(a=b.target;a&&a!=document.documentelement;a=a.parentelement)if(\"a\"==a.tagname){a=\"1\"==a.getattribute(\"data-nohref\");break a}a=!1}a&&b.preventdefault()},!0);}).call(this);(function(){\\nvar a=window.performance;window.start=date.now();a:{var b=window;if(a){var c=a.timing;if(c){var d=c.navigationstart,f=c.responsestart;if(f>d&&f<=window.start){window.start=f;b.wsrt=f-d;break a}}a.now&&(b.wsrt=math.floor(a.now()))}}window.google=window.google||{};va'"
      ]
     },
     "execution_count": 13,
     "metadata": {},
     "output_type": "execute_result"
    }
   ],
   "source": [
    "scrape = Scrape()\n",
    "scrape.google( 'ibm company' )\n",
    "scrape.getSource()[ 0 : 1000 ]"
   ]
  },
  {
   "cell_type": "markdown",
   "metadata": {},
   "source": [
    "<hr>\n",
    "<i style=\"font-size:15.9px\">Extract search results from the souce code:</i></tr><td>\n",
    "<hr>"
   ]
  },
  {
   "cell_type": "code",
   "execution_count": 3,
   "metadata": {},
   "outputs": [
    {
     "data": {
      "text/html": [
       "<div>\n",
       "<style scoped>\n",
       "    .dataframe tbody tr th:only-of-type {\n",
       "        vertical-align: middle;\n",
       "    }\n",
       "\n",
       "    .dataframe tbody tr th {\n",
       "        vertical-align: top;\n",
       "    }\n",
       "\n",
       "    .dataframe thead th {\n",
       "        text-align: right;\n",
       "    }\n",
       "</style>\n",
       "<table border=\"1\" class=\"dataframe\">\n",
       "  <thead>\n",
       "    <tr style=\"text-align: right;\">\n",
       "      <th></th>\n",
       "      <th>Source</th>\n",
       "      <th>Links</th>\n",
       "      <th>Summary</th>\n",
       "    </tr>\n",
       "  </thead>\n",
       "  <tbody>\n",
       "    <tr>\n",
       "      <th>0</th>\n",
       "      <td>https://www.ibm.com</td>\n",
       "      <td>ibm - united states</td>\n",
       "      <td>for more than a century ibm has been dedicated...</td>\n",
       "    </tr>\n",
       "    <tr>\n",
       "      <th>1</th>\n",
       "      <td>https://www.ibm.com</td>\n",
       "      <td>about ibm - united states</td>\n",
       "      <td>collectively, they have fostered some of the c...</td>\n",
       "    </tr>\n",
       "    <tr>\n",
       "      <th>2</th>\n",
       "      <td>https://en.wikipedia.org</td>\n",
       "      <td>ibm - wikipedia</td>\n",
       "      <td>website. ibm.com. international business machi...</td>\n",
       "    </tr>\n",
       "    <tr>\n",
       "      <th>3</th>\n",
       "      <td>https://www.cbronline.com</td>\n",
       "      <td>what is ibm? - computer business review</td>\n",
       "      <td>international business machines (ibm), is a gl...</td>\n",
       "    </tr>\n",
       "    <tr>\n",
       "      <th>4</th>\n",
       "      <td>https://www.linkedin.com</td>\n",
       "      <td>ibm | linkedin</td>\n",
       "      <td>ibm is a leading cloud platform and cognitive ...</td>\n",
       "    </tr>\n",
       "    <tr>\n",
       "      <th>5</th>\n",
       "      <td>https://www.britannica.com</td>\n",
       "      <td>ibm | founding, history, &amp;amp; products | brit...</td>\n",
       "      <td>ibm (international business machines corporati...</td>\n",
       "    </tr>\n",
       "    <tr>\n",
       "      <th>6</th>\n",
       "      <td>https://money.cnn.com</td>\n",
       "      <td>ibm - international business machines corp com...</td>\n",
       "      <td>the company was founded by charles ranlett fli...</td>\n",
       "    </tr>\n",
       "    <tr>\n",
       "      <th>7</th>\n",
       "      <td>https://searchitchannel.techtarget.com</td>\n",
       "      <td>what is ibm? - definition from whatis.com - se...</td>\n",
       "      <td>ibm is a global information technology company...</td>\n",
       "    </tr>\n",
       "    <tr>\n",
       "      <th>8</th>\n",
       "      <td>https://www.bloomberg.com</td>\n",
       "      <td>international business machines corp - company...</td>\n",
       "      <td>international business machines corporation (i...</td>\n",
       "    </tr>\n",
       "    <tr>\n",
       "      <th>9</th>\n",
       "      <td>https://finance.yahoo.com</td>\n",
       "      <td>international business machines (ibm) company ...</td>\n",
       "      <td>international business machines corporation op...</td>\n",
       "    </tr>\n",
       "  </tbody>\n",
       "</table>\n",
       "</div>"
      ],
      "text/plain": [
       "                                   Source  \\\n",
       "0                     https://www.ibm.com   \n",
       "1                     https://www.ibm.com   \n",
       "2                https://en.wikipedia.org   \n",
       "3               https://www.cbronline.com   \n",
       "4                https://www.linkedin.com   \n",
       "5              https://www.britannica.com   \n",
       "6                   https://money.cnn.com   \n",
       "7  https://searchitchannel.techtarget.com   \n",
       "8               https://www.bloomberg.com   \n",
       "9               https://finance.yahoo.com   \n",
       "\n",
       "                                               Links  \\\n",
       "0                                ibm - united states   \n",
       "1                          about ibm - united states   \n",
       "2                                    ibm - wikipedia   \n",
       "3            what is ibm? - computer business review   \n",
       "4                                     ibm | linkedin   \n",
       "5  ibm | founding, history, &amp; products | brit...   \n",
       "6  ibm - international business machines corp com...   \n",
       "7  what is ibm? - definition from whatis.com - se...   \n",
       "8  international business machines corp - company...   \n",
       "9  international business machines (ibm) company ...   \n",
       "\n",
       "                                             Summary  \n",
       "0  for more than a century ibm has been dedicated...  \n",
       "1  collectively, they have fostered some of the c...  \n",
       "2  website. ibm.com. international business machi...  \n",
       "3  international business machines (ibm), is a gl...  \n",
       "4  ibm is a leading cloud platform and cognitive ...  \n",
       "5  ibm (international business machines corporati...  \n",
       "6  the company was founded by charles ranlett fli...  \n",
       "7  ibm is a global information technology company...  \n",
       "8  international business machines corporation (i...  \n",
       "9  international business machines corporation op...  "
      ]
     },
     "execution_count": 3,
     "metadata": {},
     "output_type": "execute_result"
    }
   ],
   "source": [
    "scrape.getResult()"
   ]
  },
  {
   "cell_type": "markdown",
   "metadata": {},
   "source": [
    "<hr>\n",
    "<i style=\"font-size:15.9px\">Extract Information from Google's information box, if one exists:</i></tr><td>\n",
    "<hr>"
   ]
  },
  {
   "cell_type": "code",
   "execution_count": 4,
   "metadata": {},
   "outputs": [
    {
     "data": {
      "text/html": [
       "<div>\n",
       "<style scoped>\n",
       "    .dataframe tbody tr th:only-of-type {\n",
       "        vertical-align: middle;\n",
       "    }\n",
       "\n",
       "    .dataframe tbody tr th {\n",
       "        vertical-align: top;\n",
       "    }\n",
       "\n",
       "    .dataframe thead th {\n",
       "        text-align: right;\n",
       "    }\n",
       "</style>\n",
       "<table border=\"1\" class=\"dataframe\">\n",
       "  <thead>\n",
       "    <tr style=\"text-align: right;\">\n",
       "      <th></th>\n",
       "      <th>0</th>\n",
       "    </tr>\n",
       "  </thead>\n",
       "  <tbody>\n",
       "    <tr>\n",
       "      <th>wiki</th>\n",
       "      <td>international business machines corporation is...</td>\n",
       "    </tr>\n",
       "    <tr>\n",
       "      <th>ceo</th>\n",
       "      <td>arvind krishna (apr 6, 2020–)</td>\n",
       "    </tr>\n",
       "    <tr>\n",
       "      <th>customer service</th>\n",
       "      <td>1 (877) 426-6006</td>\n",
       "    </tr>\n",
       "    <tr>\n",
       "      <th>sales</th>\n",
       "      <td>1 (888) 746-7426</td>\n",
       "    </tr>\n",
       "    <tr>\n",
       "      <th>headquarters</th>\n",
       "      <td>armonk, ny</td>\n",
       "    </tr>\n",
       "    <tr>\n",
       "      <th>founder</th>\n",
       "      <td>charles ranlett flint</td>\n",
       "    </tr>\n",
       "    <tr>\n",
       "      <th>subsidiaries</th>\n",
       "      <td>red hat software, ibm india private limited, w...</td>\n",
       "    </tr>\n",
       "  </tbody>\n",
       "</table>\n",
       "</div>"
      ],
      "text/plain": [
       "                                                                  0\n",
       "wiki              international business machines corporation is...\n",
       "ceo                                   arvind krishna (apr 6, 2020–)\n",
       "customer service                                   1 (877) 426-6006\n",
       "sales                                              1 (888) 746-7426\n",
       "headquarters                                             armonk, ny\n",
       "founder                                       charles ranlett flint\n",
       "subsidiaries      red hat software, ibm india private limited, w..."
      ]
     },
     "execution_count": 4,
     "metadata": {},
     "output_type": "execute_result"
    }
   ],
   "source": [
    "scrape.getBox()"
   ]
  },
  {
   "cell_type": "markdown",
   "metadata": {},
   "source": [
    "<hr>\n",
    "<i style=\"font-size:15.9px\">Find alternative names for the company, if they exist:</i></tr><td>\n",
    "<hr>"
   ]
  },
  {
   "cell_type": "code",
   "execution_count": 5,
   "metadata": {},
   "outputs": [
    {
     "data": {
      "text/html": [
       "<div>\n",
       "<style scoped>\n",
       "    .dataframe tbody tr th:only-of-type {\n",
       "        vertical-align: middle;\n",
       "    }\n",
       "\n",
       "    .dataframe tbody tr th {\n",
       "        vertical-align: top;\n",
       "    }\n",
       "\n",
       "    .dataframe thead th {\n",
       "        text-align: right;\n",
       "    }\n",
       "</style>\n",
       "<table border=\"1\" class=\"dataframe\">\n",
       "  <thead>\n",
       "    <tr style=\"text-align: right;\">\n",
       "      <th></th>\n",
       "      <th>Company Name</th>\n",
       "    </tr>\n",
       "  </thead>\n",
       "  <tbody>\n",
       "    <tr>\n",
       "      <th>0</th>\n",
       "      <td>international business machines corp</td>\n",
       "    </tr>\n",
       "    <tr>\n",
       "      <th>1</th>\n",
       "      <td>ibm</td>\n",
       "    </tr>\n",
       "    <tr>\n",
       "      <th>2</th>\n",
       "      <td>international business machines</td>\n",
       "    </tr>\n",
       "  </tbody>\n",
       "</table>\n",
       "</div>"
      ],
      "text/plain": [
       "                           Company Name\n",
       "0  international business machines corp\n",
       "1                                   ibm\n",
       "2       international business machines"
      ]
     },
     "execution_count": 5,
     "metadata": {},
     "output_type": "execute_result"
    }
   ],
   "source": [
    "scrape.assocComp( 'ibm' )"
   ]
  }
 ],
 "metadata": {
  "kernelspec": {
   "display_name": "Python 3",
   "language": "python",
   "name": "python3"
  },
  "language_info": {
   "codemirror_mode": {
    "name": "ipython",
    "version": 3
   },
   "file_extension": ".py",
   "mimetype": "text/x-python",
   "name": "python",
   "nbconvert_exporter": "python",
   "pygments_lexer": "ipython3",
   "version": "3.8.3"
  }
 },
 "nbformat": 4,
 "nbformat_minor": 4
}
